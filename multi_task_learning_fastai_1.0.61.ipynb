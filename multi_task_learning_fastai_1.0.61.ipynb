{
 "cells": [
  {
   "cell_type": "code",
   "execution_count": 22,
   "id": "meaning-clinton",
   "metadata": {},
   "outputs": [],
   "source": [
    "import numpy as np\n",
    "import os\n",
    "import torch\n",
    "import torch.nn as nn\n",
    "import torch.nn.functional as F\n",
    "import timm\n",
    "from torch.autograd import Variable\n",
    "import torchvision.models as models\n",
    "import glob\n",
    "import numpy as np\n",
    "import pickle\n",
    "#from tensorboardX import SummaryWriter\n",
    "import time\n",
    "import os,shutil,json\n",
    "import argparse\n",
    "import torch.optim as optim\n",
    "from torchvision import transforms, datasets\n",
    "from torchvision.datasets import ImageFolder\n",
    "#import natsort\n",
    "#import easydict\n",
    "from PIL import Image\n",
    "#from skimage import io, transform\n",
    "import random\n",
    "import math\n",
    "import torch.utils.data\n",
    "import pandas as pd\n",
    "import seaborn as sns\n",
    "from sklearn.model_selection import KFold\n",
    "#from efficientnet_pytorch import EfficientNet\n",
    "import random\n",
    "import PIL, PIL.ImageOps, PIL.ImageEnhance, PIL.ImageDraw\n",
    "import numpy as np\n",
    "from RandAugment import RandAugment\n",
    "from fastai import *\n",
    "from fastai.vision import *\n",
    "from fastai.layers import MSELossFlat, CrossEntropyFlat"
   ]
  },
  {
   "cell_type": "code",
   "execution_count": 2,
   "id": "combined-terrorist",
   "metadata": {},
   "outputs": [
    {
     "name": "stdout",
     "output_type": "stream",
     "text": [
      "current_path /opt/ml/train\n"
     ]
    }
   ],
   "source": [
    "os.chdir('train/') # Data_Path\n",
    "current_path = os.getcwd() # current folder\n",
    "print('current_path', current_path)"
   ]
  },
  {
   "cell_type": "code",
   "execution_count": 3,
   "id": "silent-robert",
   "metadata": {},
   "outputs": [
    {
     "data": {
      "text/html": [
       "<div>\n",
       "<style scoped>\n",
       "    .dataframe tbody tr th:only-of-type {\n",
       "        vertical-align: middle;\n",
       "    }\n",
       "\n",
       "    .dataframe tbody tr th {\n",
       "        vertical-align: top;\n",
       "    }\n",
       "\n",
       "    .dataframe thead th {\n",
       "        text-align: right;\n",
       "    }\n",
       "</style>\n",
       "<table border=\"1\" class=\"dataframe\">\n",
       "  <thead>\n",
       "    <tr style=\"text-align: right;\">\n",
       "      <th></th>\n",
       "      <th>id</th>\n",
       "      <th>gender</th>\n",
       "      <th>race</th>\n",
       "      <th>age</th>\n",
       "      <th>path</th>\n",
       "    </tr>\n",
       "  </thead>\n",
       "  <tbody>\n",
       "    <tr>\n",
       "      <th>0</th>\n",
       "      <td>000001</td>\n",
       "      <td>female</td>\n",
       "      <td>Asian</td>\n",
       "      <td>45</td>\n",
       "      <td>000001_female_Asian_45</td>\n",
       "    </tr>\n",
       "    <tr>\n",
       "      <th>1</th>\n",
       "      <td>000002</td>\n",
       "      <td>female</td>\n",
       "      <td>Asian</td>\n",
       "      <td>52</td>\n",
       "      <td>000002_female_Asian_52</td>\n",
       "    </tr>\n",
       "    <tr>\n",
       "      <th>2</th>\n",
       "      <td>000004</td>\n",
       "      <td>male</td>\n",
       "      <td>Asian</td>\n",
       "      <td>54</td>\n",
       "      <td>000004_male_Asian_54</td>\n",
       "    </tr>\n",
       "    <tr>\n",
       "      <th>3</th>\n",
       "      <td>000005</td>\n",
       "      <td>female</td>\n",
       "      <td>Asian</td>\n",
       "      <td>58</td>\n",
       "      <td>000005_female_Asian_58</td>\n",
       "    </tr>\n",
       "    <tr>\n",
       "      <th>4</th>\n",
       "      <td>000006</td>\n",
       "      <td>female</td>\n",
       "      <td>Asian</td>\n",
       "      <td>59</td>\n",
       "      <td>000006_female_Asian_59</td>\n",
       "    </tr>\n",
       "  </tbody>\n",
       "</table>\n",
       "</div>"
      ],
      "text/plain": [
       "       id  gender   race  age                    path\n",
       "0  000001  female  Asian   45  000001_female_Asian_45\n",
       "1  000002  female  Asian   52  000002_female_Asian_52\n",
       "2  000004    male  Asian   54    000004_male_Asian_54\n",
       "3  000005  female  Asian   58  000005_female_Asian_58\n",
       "4  000006  female  Asian   59  000006_female_Asian_59"
      ]
     },
     "execution_count": 3,
     "metadata": {},
     "output_type": "execute_result"
    }
   ],
   "source": [
    "load_df = pd.read_csv('train.csv')\n",
    "load_df.head()"
   ]
  },
  {
   "cell_type": "code",
   "execution_count": 4,
   "id": "breeding-capital",
   "metadata": {},
   "outputs": [
    {
     "name": "stdout",
     "output_type": "stream",
     "text": [
      "60\n",
      "18\n"
     ]
    },
    {
     "name": "stderr",
     "output_type": "stream",
     "text": [
      "/opt/conda/lib/python3.7/site-packages/seaborn/distributions.py:2557: FutureWarning: `distplot` is a deprecated function and will be removed in a future version. Please adapt your code to use either `displot` (a figure-level function with similar flexibility) or `histplot` (an axes-level function for histograms).\n",
      "  warnings.warn(msg, FutureWarning)\n"
     ]
    },
    {
     "data": {
      "text/plain": [
       "<matplotlib.axes._subplots.AxesSubplot at 0x7f40ccc79410>"
      ]
     },
     "execution_count": 4,
     "metadata": {},
     "output_type": "execute_result"
    },
    {
     "data": {
      "image/png": "[encoded data removed]",
      "text/plain": [
       "<Figure size 432x288 with 1 Axes>"
      ]
     },
     "metadata": {},
     "output_type": "display_data"
    }
   ],
   "source": [
    "print(max(load_df.age))\n",
    "print(min(load_df.age))\n",
    "sns.set_theme()\n",
    "sns.distplot(load_df['age'], kde=True, bins=30)"
   ]
  },
  {
   "cell_type": "code",
   "execution_count": 5,
   "id": "convertible-hello",
   "metadata": {},
   "outputs": [],
   "source": [
    "li = []\n",
    "li2 = []\n",
    "for idx, row in load_df.iterrows():\n",
    "  path = glob.glob('images/'+row.path+'/*')\n",
    "  li.append(path)\n",
    "  li2.append([os.path.basename(x).split('.')[0][:-1] for x in path])\n",
    "flatten_li = list(np.concatenate(li).flat)\n",
    "flatten_li2 = list(np.concatenate(li2).flat)\n",
    "#print(flatten_li2)"
   ]
  },
  {
   "cell_type": "code",
   "execution_count": 6,
   "id": "civil-picking",
   "metadata": {},
   "outputs": [
    {
     "data": {
      "text/html": [
       "<div>\n",
       "<style scoped>\n",
       "    .dataframe tbody tr th:only-of-type {\n",
       "        vertical-align: middle;\n",
       "    }\n",
       "\n",
       "    .dataframe tbody tr th {\n",
       "        vertical-align: top;\n",
       "    }\n",
       "\n",
       "    .dataframe thead th {\n",
       "        text-align: right;\n",
       "    }\n",
       "</style>\n",
       "<table border=\"1\" class=\"dataframe\">\n",
       "  <thead>\n",
       "    <tr style=\"text-align: right;\">\n",
       "      <th></th>\n",
       "      <th>id</th>\n",
       "      <th>gender</th>\n",
       "      <th>race</th>\n",
       "      <th>age</th>\n",
       "      <th>path</th>\n",
       "    </tr>\n",
       "  </thead>\n",
       "  <tbody>\n",
       "    <tr>\n",
       "      <th>0</th>\n",
       "      <td>000001</td>\n",
       "      <td>female</td>\n",
       "      <td>Asian</td>\n",
       "      <td>45</td>\n",
       "      <td>000001_female_Asian_45</td>\n",
       "    </tr>\n",
       "    <tr>\n",
       "      <th>1</th>\n",
       "      <td>000001</td>\n",
       "      <td>female</td>\n",
       "      <td>Asian</td>\n",
       "      <td>45</td>\n",
       "      <td>000001_female_Asian_45</td>\n",
       "    </tr>\n",
       "    <tr>\n",
       "      <th>2</th>\n",
       "      <td>000001</td>\n",
       "      <td>female</td>\n",
       "      <td>Asian</td>\n",
       "      <td>45</td>\n",
       "      <td>000001_female_Asian_45</td>\n",
       "    </tr>\n",
       "    <tr>\n",
       "      <th>3</th>\n",
       "      <td>000001</td>\n",
       "      <td>female</td>\n",
       "      <td>Asian</td>\n",
       "      <td>45</td>\n",
       "      <td>000001_female_Asian_45</td>\n",
       "    </tr>\n",
       "    <tr>\n",
       "      <th>4</th>\n",
       "      <td>000001</td>\n",
       "      <td>female</td>\n",
       "      <td>Asian</td>\n",
       "      <td>45</td>\n",
       "      <td>000001_female_Asian_45</td>\n",
       "    </tr>\n",
       "  </tbody>\n",
       "</table>\n",
       "</div>"
      ],
      "text/plain": [
       "       id  gender   race  age                    path\n",
       "0  000001  female  Asian   45  000001_female_Asian_45\n",
       "1  000001  female  Asian   45  000001_female_Asian_45\n",
       "2  000001  female  Asian   45  000001_female_Asian_45\n",
       "3  000001  female  Asian   45  000001_female_Asian_45\n",
       "4  000001  female  Asian   45  000001_female_Asian_45"
      ]
     },
     "execution_count": 6,
     "metadata": {},
     "output_type": "execute_result"
    }
   ],
   "source": [
    "train_df = []\n",
    "for row in load_df.itertuples(index=False):\n",
    "  train_df.extend([list(row)]*7)\n",
    "train_df = pd.DataFrame(train_df, columns=load_df.columns)\n",
    "train_df.head()"
   ]
  },
  {
   "cell_type": "code",
   "execution_count": 7,
   "id": "involved-convert",
   "metadata": {},
   "outputs": [
    {
     "data": {
      "text/html": [
       "<div>\n",
       "<style scoped>\n",
       "    .dataframe tbody tr th:only-of-type {\n",
       "        vertical-align: middle;\n",
       "    }\n",
       "\n",
       "    .dataframe tbody tr th {\n",
       "        vertical-align: top;\n",
       "    }\n",
       "\n",
       "    .dataframe thead th {\n",
       "        text-align: right;\n",
       "    }\n",
       "</style>\n",
       "<table border=\"1\" class=\"dataframe\">\n",
       "  <thead>\n",
       "    <tr style=\"text-align: right;\">\n",
       "      <th></th>\n",
       "      <th>id</th>\n",
       "      <th>gender</th>\n",
       "      <th>race</th>\n",
       "      <th>age</th>\n",
       "      <th>path</th>\n",
       "      <th>mask</th>\n",
       "    </tr>\n",
       "  </thead>\n",
       "  <tbody>\n",
       "    <tr>\n",
       "      <th>0</th>\n",
       "      <td>000001</td>\n",
       "      <td>female</td>\n",
       "      <td>Asian</td>\n",
       "      <td>45</td>\n",
       "      <td>images/000001_female_Asian_45/mask4.jpg</td>\n",
       "      <td>mask</td>\n",
       "    </tr>\n",
       "    <tr>\n",
       "      <th>1</th>\n",
       "      <td>000001</td>\n",
       "      <td>female</td>\n",
       "      <td>Asian</td>\n",
       "      <td>45</td>\n",
       "      <td>images/000001_female_Asian_45/normal.jpg</td>\n",
       "      <td>norma</td>\n",
       "    </tr>\n",
       "    <tr>\n",
       "      <th>2</th>\n",
       "      <td>000001</td>\n",
       "      <td>female</td>\n",
       "      <td>Asian</td>\n",
       "      <td>45</td>\n",
       "      <td>images/000001_female_Asian_45/mask3.jpg</td>\n",
       "      <td>mask</td>\n",
       "    </tr>\n",
       "    <tr>\n",
       "      <th>3</th>\n",
       "      <td>000001</td>\n",
       "      <td>female</td>\n",
       "      <td>Asian</td>\n",
       "      <td>45</td>\n",
       "      <td>images/000001_female_Asian_45/mask1.jpg</td>\n",
       "      <td>mask</td>\n",
       "    </tr>\n",
       "    <tr>\n",
       "      <th>4</th>\n",
       "      <td>000001</td>\n",
       "      <td>female</td>\n",
       "      <td>Asian</td>\n",
       "      <td>45</td>\n",
       "      <td>images/000001_female_Asian_45/incorrect_mask.jpg</td>\n",
       "      <td>incorrect_mas</td>\n",
       "    </tr>\n",
       "  </tbody>\n",
       "</table>\n",
       "</div>"
      ],
      "text/plain": [
       "       id  gender   race  age  \\\n",
       "0  000001  female  Asian   45   \n",
       "1  000001  female  Asian   45   \n",
       "2  000001  female  Asian   45   \n",
       "3  000001  female  Asian   45   \n",
       "4  000001  female  Asian   45   \n",
       "\n",
       "                                               path           mask  \n",
       "0           images/000001_female_Asian_45/mask4.jpg           mask  \n",
       "1          images/000001_female_Asian_45/normal.jpg          norma  \n",
       "2           images/000001_female_Asian_45/mask3.jpg           mask  \n",
       "3           images/000001_female_Asian_45/mask1.jpg           mask  \n",
       "4  images/000001_female_Asian_45/incorrect_mask.jpg  incorrect_mas  "
      ]
     },
     "execution_count": 7,
     "metadata": {},
     "output_type": "execute_result"
    }
   ],
   "source": [
    "train_df['path']=flatten_li\n",
    "train_df['mask']=flatten_li2\n",
    "train_df.head()"
   ]
  },
  {
   "cell_type": "code",
   "execution_count": 8,
   "id": "positive-interpretation",
   "metadata": {},
   "outputs": [
    {
     "data": {
      "text/html": [
       "<div>\n",
       "<style scoped>\n",
       "    .dataframe tbody tr th:only-of-type {\n",
       "        vertical-align: middle;\n",
       "    }\n",
       "\n",
       "    .dataframe tbody tr th {\n",
       "        vertical-align: top;\n",
       "    }\n",
       "\n",
       "    .dataframe thead th {\n",
       "        text-align: right;\n",
       "    }\n",
       "</style>\n",
       "<table border=\"1\" class=\"dataframe\">\n",
       "  <thead>\n",
       "    <tr style=\"text-align: right;\">\n",
       "      <th></th>\n",
       "      <th>gender</th>\n",
       "      <th>age</th>\n",
       "      <th>path</th>\n",
       "      <th>mask</th>\n",
       "    </tr>\n",
       "  </thead>\n",
       "  <tbody>\n",
       "    <tr>\n",
       "      <th>0</th>\n",
       "      <td>female</td>\n",
       "      <td>45</td>\n",
       "      <td>images/000001_female_Asian_45/mask4.jpg</td>\n",
       "      <td>mask</td>\n",
       "    </tr>\n",
       "    <tr>\n",
       "      <th>1</th>\n",
       "      <td>female</td>\n",
       "      <td>45</td>\n",
       "      <td>images/000001_female_Asian_45/normal.jpg</td>\n",
       "      <td>norma</td>\n",
       "    </tr>\n",
       "    <tr>\n",
       "      <th>2</th>\n",
       "      <td>female</td>\n",
       "      <td>45</td>\n",
       "      <td>images/000001_female_Asian_45/mask3.jpg</td>\n",
       "      <td>mask</td>\n",
       "    </tr>\n",
       "    <tr>\n",
       "      <th>3</th>\n",
       "      <td>female</td>\n",
       "      <td>45</td>\n",
       "      <td>images/000001_female_Asian_45/mask1.jpg</td>\n",
       "      <td>mask</td>\n",
       "    </tr>\n",
       "    <tr>\n",
       "      <th>4</th>\n",
       "      <td>female</td>\n",
       "      <td>45</td>\n",
       "      <td>images/000001_female_Asian_45/incorrect_mask.jpg</td>\n",
       "      <td>incorrect_mas</td>\n",
       "    </tr>\n",
       "  </tbody>\n",
       "</table>\n",
       "</div>"
      ],
      "text/plain": [
       "   gender  age                                              path  \\\n",
       "0  female   45           images/000001_female_Asian_45/mask4.jpg   \n",
       "1  female   45          images/000001_female_Asian_45/normal.jpg   \n",
       "2  female   45           images/000001_female_Asian_45/mask3.jpg   \n",
       "3  female   45           images/000001_female_Asian_45/mask1.jpg   \n",
       "4  female   45  images/000001_female_Asian_45/incorrect_mask.jpg   \n",
       "\n",
       "            mask  \n",
       "0           mask  \n",
       "1          norma  \n",
       "2           mask  \n",
       "3           mask  \n",
       "4  incorrect_mas  "
      ]
     },
     "execution_count": 8,
     "metadata": {},
     "output_type": "execute_result"
    }
   ],
   "source": [
    "del train_df['id']\n",
    "del train_df['race']\n",
    "train_df.head()"
   ]
  },
  {
   "cell_type": "code",
   "execution_count": 9,
   "id": "legitimate-findings",
   "metadata": {},
   "outputs": [
    {
     "data": {
      "text/html": [
       "<div>\n",
       "<style scoped>\n",
       "    .dataframe tbody tr th:only-of-type {\n",
       "        vertical-align: middle;\n",
       "    }\n",
       "\n",
       "    .dataframe tbody tr th {\n",
       "        vertical-align: top;\n",
       "    }\n",
       "\n",
       "    .dataframe thead th {\n",
       "        text-align: right;\n",
       "    }\n",
       "</style>\n",
       "<table border=\"1\" class=\"dataframe\">\n",
       "  <thead>\n",
       "    <tr style=\"text-align: right;\">\n",
       "      <th></th>\n",
       "      <th>gender</th>\n",
       "      <th>age</th>\n",
       "      <th>path</th>\n",
       "      <th>mask</th>\n",
       "    </tr>\n",
       "  </thead>\n",
       "  <tbody>\n",
       "    <tr>\n",
       "      <th>0</th>\n",
       "      <td>0</td>\n",
       "      <td>45</td>\n",
       "      <td>images/000001_female_Asian_45/mask4.jpg</td>\n",
       "      <td>0</td>\n",
       "    </tr>\n",
       "    <tr>\n",
       "      <th>1</th>\n",
       "      <td>0</td>\n",
       "      <td>45</td>\n",
       "      <td>images/000001_female_Asian_45/normal.jpg</td>\n",
       "      <td>1</td>\n",
       "    </tr>\n",
       "    <tr>\n",
       "      <th>2</th>\n",
       "      <td>0</td>\n",
       "      <td>45</td>\n",
       "      <td>images/000001_female_Asian_45/mask3.jpg</td>\n",
       "      <td>0</td>\n",
       "    </tr>\n",
       "    <tr>\n",
       "      <th>3</th>\n",
       "      <td>0</td>\n",
       "      <td>45</td>\n",
       "      <td>images/000001_female_Asian_45/mask1.jpg</td>\n",
       "      <td>0</td>\n",
       "    </tr>\n",
       "    <tr>\n",
       "      <th>4</th>\n",
       "      <td>0</td>\n",
       "      <td>45</td>\n",
       "      <td>images/000001_female_Asian_45/incorrect_mask.jpg</td>\n",
       "      <td>2</td>\n",
       "    </tr>\n",
       "  </tbody>\n",
       "</table>\n",
       "</div>"
      ],
      "text/plain": [
       "   gender  age                                              path  mask\n",
       "0       0   45           images/000001_female_Asian_45/mask4.jpg     0\n",
       "1       0   45          images/000001_female_Asian_45/normal.jpg     1\n",
       "2       0   45           images/000001_female_Asian_45/mask3.jpg     0\n",
       "3       0   45           images/000001_female_Asian_45/mask1.jpg     0\n",
       "4       0   45  images/000001_female_Asian_45/incorrect_mask.jpg     2"
      ]
     },
     "execution_count": 9,
     "metadata": {},
     "output_type": "execute_result"
    }
   ],
   "source": [
    "gender = train_df['gender'].unique()\n",
    "#age = train_df['age'].unique()\n",
    "mask = train_df['mask'].unique()\n",
    "#print(gender, age, mask)\n",
    "gender2idx = {o:i for i,o in enumerate(gender)}\n",
    "#age2idx = {o:i for i,o in enumerate(age)}\n",
    "mask2idx = {o:i for i,o in enumerate(mask)}\n",
    "\n",
    "train_df['gender'] = train_df['gender'].apply(lambda x: gender2idx[x])\n",
    "#train_df['age'] = train_df['age'].apply(lambda x: age2idx(x))\n",
    "train_df['mask'] = train_df['mask'].apply(lambda x: mask2idx[x])\n",
    "\n",
    "train_df.head()"
   ]
  },
  {
   "cell_type": "code",
   "execution_count": 10,
   "id": "continued-immunology",
   "metadata": {},
   "outputs": [
    {
     "name": "stdout",
     "output_type": "stream",
     "text": [
      "60\n",
      "18\n"
     ]
    },
    {
     "name": "stderr",
     "output_type": "stream",
     "text": [
      "/opt/conda/lib/python3.7/site-packages/seaborn/distributions.py:2557: FutureWarning: `distplot` is a deprecated function and will be removed in a future version. Please adapt your code to use either `displot` (a figure-level function with similar flexibility) or `histplot` (an axes-level function for histograms).\n",
      "  warnings.warn(msg, FutureWarning)\n"
     ]
    },
    {
     "data": {
      "text/plain": [
       "<matplotlib.axes._subplots.AxesSubplot at 0x7f40c3880a90>"
      ]
     },
     "execution_count": 10,
     "metadata": {},
     "output_type": "execute_result"
    },
    {
     "data": {
      "image/png": "[encoded data removed]",
      "text/plain": [
       "<Figure size 432x288 with 1 Axes>"
      ]
     },
     "metadata": {},
     "output_type": "display_data"
    }
   ],
   "source": [
    "print(max(load_df.age))\n",
    "print(min(load_df.age))\n",
    "sns.set_theme()\n",
    "sns.distplot(train_df['age'], kde=True, bins=30)"
   ]
  },
  {
   "cell_type": "code",
   "execution_count": 23,
   "id": "acceptable-receipt",
   "metadata": {},
   "outputs": [
    {
     "name": "stdout",
     "output_type": "stream",
     "text": [
      "['dm_nfnet_f0', 'dm_nfnet_f1', 'dm_nfnet_f2', 'dm_nfnet_f3', 'dm_nfnet_f4', 'dm_nfnet_f5', 'dm_nfnet_f6', 'eca_nfnet_l0', 'nf_regnet_b1', 'nf_resnet50', 'nfnet_l0']\n"
     ]
    }
   ],
   "source": [
    "model_names = timm.list_models('*nf*', pretrained=True)\n",
    "print(model_names)"
   ]
  },
  {
   "cell_type": "code",
   "execution_count": 11,
   "id": "premium-behavior",
   "metadata": {},
   "outputs": [],
   "source": [
    "class MultiTaskDataset(torch.utils.data.Dataset):\n",
    "    def __init__(self, df, tf):\n",
    "        self.path = list(df['path'])\n",
    "        self.gender = list(df['gender'])\n",
    "        self.age = list(df['age'])\n",
    "        self.mask = list(df['mask'])\n",
    "\n",
    "        self.transform = transforms.Compose([\n",
    "            # transforms.Resize((224, 224)),  \n",
    "            transforms.CenterCrop((350,256)),\n",
    "            transforms.Resize((224,224)),\n",
    "            transforms.ToTensor(),\n",
    "            transforms.Normalize(mean=[0.485, 0.456, 0.406],\n",
    "                                  std=[0.229, 0.224, 0.225])\n",
    "            ])\n",
    "        if tf:\n",
    "            self.transform.transforms.insert(0,RandAugment(3,9))\n",
    "\n",
    "    def __len__(self): return len(self.path)\n",
    "\n",
    "    def __getitem__(self,idx):\n",
    "        #dealing with the image\n",
    "        im = PIL.Image.open(self.path[idx]).convert('RGB')\n",
    "        im = self.transform(im)\n",
    "\n",
    "\n",
    "        #dealing with the labels\n",
    "        gender = torch.tensor(int(self.gender[idx]), dtype=torch.int64)\n",
    "        age = torch.tensor(float(self.age[idx]), dtype=torch.float32)\n",
    "        mask = torch.tensor(int(self.mask[idx]), dtype=torch.int64)\n",
    "        \n",
    "        return im.data, (gender, age.log_()/4.09, mask)"
   ]
  },
  {
   "cell_type": "code",
   "execution_count": 12,
   "id": "dominican-senator",
   "metadata": {},
   "outputs": [],
   "source": [
    "train_ds = MultiTaskDataset(train_df, tf=True)\n",
    "train_dl = torch.utils.data.DataLoader(train_ds, batch_size=256, shuffle=True, num_workers=4)\n",
    "valid_ds = MultiTaskDataset(train_df, tf=False)\n",
    "valid_dl = torch.utils.data.DataLoader(train_ds, batch_size=256, shuffle=True, num_workers=4)\n",
    "data = DataBunch(train_dl, valid_dl)"
   ]
  },
  {
   "cell_type": "code",
   "execution_count": 13,
   "id": "compound-assurance",
   "metadata": {},
   "outputs": [],
   "source": [
    "class MultiTaskModel(nn.Module):\n",
    "    \"\"\"\n",
    "    Creates a MTL model with the encoder from \"arch\" and with dropout multiplier ps.\n",
    "    \"\"\"\n",
    "    def __init__(self, arch,ps=0.5):\n",
    "        super(MultiTaskModel,self).__init__()\n",
    "        self.encoder = create_body(arch, pretrained=False)        #fastai function that creates an encoder given an architecture\n",
    "        self.fc1 = create_head(1024,2,ps=ps)    #fastai function that creates a head\n",
    "        self.fc2 = create_head(1024,1,ps=ps)\n",
    "        self.fc3 = create_head(1024,3,ps=ps)\n",
    "\n",
    "    def forward(self,x):\n",
    "\n",
    "        x = self.encoder(x)\n",
    "        gender = self.fc1(x)\n",
    "        age = torch.sigmoid(self.fc2(x))\n",
    "        mask = self.fc3(x)\n",
    "\n",
    "        return [gender, age, mask]"
   ]
  },
  {
   "cell_type": "code",
   "execution_count": 14,
   "id": "immune-belle",
   "metadata": {},
   "outputs": [],
   "source": [
    "class MultiTaskLossWrapper(nn.Module):\n",
    "    def __init__(self, task_num):\n",
    "        super(MultiTaskLossWrapper, self).__init__()\n",
    "        self.task_num = task_num\n",
    "        self.log_vars = nn.Parameter(torch.zeros((task_num)))\n",
    "\n",
    "    def forward(self, preds, gender, age, mask):\n",
    "\n",
    "        ce, mse = CrossEntropyFlat(), MSELossFlat()\n",
    "\n",
    "        sages = (age*4.09).exp_()\n",
    "        idx1 = ((sages > 19) & (sages<21)) | ((sages > 56) & (sages<=60))\n",
    "        idx2 = ((sages >= 21) & (sages<28)) | ((sages > 48) & (sages<=56))\n",
    "        idx3 = ((sages >= 28) & (sages<=48))\n",
    "        loss0 = ce(preds[0], gender)\n",
    "        loss1 = mse(preds[1], age) + 1.75 * mse(preds[1][idx1], age[idx1]) + 2.25 * mse(preds[1][idx2], age[idx2]) + 5 * mse(preds[1][idx3], age[idx3])         \n",
    "        loss2 = ce(preds[2], mask)\n",
    "\n",
    "        precision0 = torch.exp(-self.log_vars[0])\n",
    "        loss0 = precision0*loss0 + self.log_vars[0]\n",
    "\n",
    "        precision1 = torch.exp(-self.log_vars[1])\n",
    "        loss1 = precision1*loss1 + self.log_vars[1]\n",
    "\n",
    "        precision2 = torch.exp(-self.log_vars[2])\n",
    "        loss2 = precision2*loss2 + self.log_vars[2]\n",
    "        \n",
    "        return loss0+loss1+loss2"
   ]
  },
  {
   "cell_type": "code",
   "execution_count": 16,
   "id": "hybrid-track",
   "metadata": {},
   "outputs": [
    {
     "data": {
      "text/html": [
       "\n",
       "    <div>\n",
       "        <style>\n",
       "            /* Turns off some styling */\n",
       "            progress {\n",
       "                /* gets rid of default border in Firefox and Opera. */\n",
       "                border: none;\n",
       "                /* Needs to be in here for Safari polyfill so background images work as expected. */\n",
       "                background-size: auto;\n",
       "            }\n",
       "            .progress-bar-interrupted, .progress-bar-interrupted::-webkit-progress-bar {\n",
       "                background: #F44336;\n",
       "            }\n",
       "        </style>\n",
       "      <progress value='1' class='' max='2' style='width:300px; height:20px; vertical-align: middle;'></progress>\n",
       "      50.00% [1/2 00:52<00:52]\n",
       "    </div>\n",
       "    \n",
       "<table border=\"1\" class=\"dataframe\">\n",
       "  <thead>\n",
       "    <tr style=\"text-align: left;\">\n",
       "      <th>epoch</th>\n",
       "      <th>train_loss</th>\n",
       "      <th>valid_loss</th>\n",
       "      <th>acc_gender</th>\n",
       "      <th>acc_age</th>\n",
       "      <th>acc_mask</th>\n",
       "      <th>time</th>\n",
       "    </tr>\n",
       "  </thead>\n",
       "  <tbody>\n",
       "    <tr>\n",
       "      <td>0</td>\n",
       "      <td>2.932729</td>\n",
       "      <td>#na#</td>\n",
       "      <td>00:52</td>\n",
       "    </tr>\n",
       "  </tbody>\n",
       "</table><p>\n",
       "\n",
       "    <div>\n",
       "        <style>\n",
       "            /* Turns off some styling */\n",
       "            progress {\n",
       "                /* gets rid of default border in Firefox and Opera. */\n",
       "                border: none;\n",
       "                /* Needs to be in here for Safari polyfill so background images work as expected. */\n",
       "                background-size: auto;\n",
       "            }\n",
       "            .progress-bar-interrupted, .progress-bar-interrupted::-webkit-progress-bar {\n",
       "                background: #F44336;\n",
       "            }\n",
       "        </style>\n",
       "      <progress value='15' class='' max='74' style='width:300px; height:20px; vertical-align: middle;'></progress>\n",
       "      20.27% [15/74 00:12<00:47 9.8313]\n",
       "    </div>\n",
       "    "
      ],
      "text/plain": [
       "<IPython.core.display.HTML object>"
      ]
     },
     "metadata": {},
     "output_type": "display_data"
    },
    {
     "name": "stdout",
     "output_type": "stream",
     "text": [
      "LR Finder is complete, type {learner_name}.recorder.plot() to see the graph.\n",
      "Min numerical gradient: 5.25E-03\n",
      "Min loss divided by 10: 8.32E-03\n"
     ]
    },
    {
     "data": {
      "image/png": "[encoded data removed]",
      "text/plain": [
       "<Figure size 432x288 with 1 Axes>"
      ]
     },
     "metadata": {},
     "output_type": "display_data"
    }
   ],
   "source": [
    "def acc_gender(preds, gender, age, mask): return accuracy(preds[0], gender)\n",
    "def acc_age(preds, gender, age, mask): return root_mean_squared_error(preds[1], age)\n",
    "def acc_mask(preds, gender, age, mask): return accuracy(preds[2], mask)\n",
    "metrics = [acc_gender, acc_age, acc_mask]\n",
    "\n",
    "model = MultiTaskModel(models.resnet34, ps=0.25)\n",
    "\n",
    "loss_func = MultiTaskLossWrapper(3).to(data.device) #just making sure the loss is on the gpu\n",
    "\n",
    "learn = Learner(data, model, loss_func=loss_func,opt_func=AdamW, callback_fns=ShowGraph, metrics=metrics)\n",
    "\n",
    "#spliting the model so that I can use discriminative learning rates\n",
    "#learn.split([learn.model.encoder[:6],\n",
    "#              learn.model.encoder[6:],\n",
    "#              nn.ModuleList([learn.model.fc1, learn.model.fc2, learn.model.fc3])]);\n",
    "\n",
    "#first I'll train only the last layer group (the heads)\n",
    "\n",
    "learn.unfreeze()\n",
    "# learn.fit_one_cycle(10, 1e-4)\n",
    "learn.lr_find()\n",
    "learn.recorder.plot(suggestion=True)\n",
    "#learn.fit_one_cycle(1, max_lr=1e-2)"
   ]
  },
  {
   "cell_type": "code",
   "execution_count": 17,
   "id": "seeing-affair",
   "metadata": {},
   "outputs": [
    {
     "data": {
      "text/html": [
       "<table border=\"1\" class=\"dataframe\">\n",
       "  <thead>\n",
       "    <tr style=\"text-align: left;\">\n",
       "      <th>epoch</th>\n",
       "      <th>train_loss</th>\n",
       "      <th>valid_loss</th>\n",
       "      <th>acc_gender</th>\n",
       "      <th>acc_age</th>\n",
       "      <th>acc_mask</th>\n",
       "      <th>time</th>\n",
       "    </tr>\n",
       "  </thead>\n",
       "  <tbody>\n",
       "    <tr>\n",
       "      <td>0</td>\n",
       "      <td>1.780273</td>\n",
       "      <td>1.382334</td>\n",
       "      <td>0.662169</td>\n",
       "      <td>0.137512</td>\n",
       "      <td>0.761323</td>\n",
       "      <td>01:42</td>\n",
       "    </tr>\n",
       "  </tbody>\n",
       "</table>"
      ],
      "text/plain": [
       "<IPython.core.display.HTML object>"
      ]
     },
     "metadata": {},
     "output_type": "display_data"
    },
    {
     "data": {
      "image/png": "[encoded data removed]",
      "text/plain": [
       "<Figure size 432x288 with 1 Axes>"
      ]
     },
     "metadata": {},
     "output_type": "display_data"
    }
   ],
   "source": [
    "learn.fit_one_cycle(1, max_lr=1e-2)"
   ]
  },
  {
   "cell_type": "code",
   "execution_count": 18,
   "id": "exciting-domain",
   "metadata": {},
   "outputs": [
    {
     "data": {
      "text/html": [
       "\n",
       "    <div>\n",
       "        <style>\n",
       "            /* Turns off some styling */\n",
       "            progress {\n",
       "                /* gets rid of default border in Firefox and Opera. */\n",
       "                border: none;\n",
       "                /* Needs to be in here for Safari polyfill so background images work as expected. */\n",
       "                background-size: auto;\n",
       "            }\n",
       "            .progress-bar-interrupted, .progress-bar-interrupted::-webkit-progress-bar {\n",
       "                background: #F44336;\n",
       "            }\n",
       "        </style>\n",
       "      <progress value='1' class='' max='2' style='width:300px; height:20px; vertical-align: middle;'></progress>\n",
       "      50.00% [1/2 00:51<00:51]\n",
       "    </div>\n",
       "    \n",
       "<table border=\"1\" class=\"dataframe\">\n",
       "  <thead>\n",
       "    <tr style=\"text-align: left;\">\n",
       "      <th>epoch</th>\n",
       "      <th>train_loss</th>\n",
       "      <th>valid_loss</th>\n",
       "      <th>acc_gender</th>\n",
       "      <th>acc_age</th>\n",
       "      <th>acc_mask</th>\n",
       "      <th>time</th>\n",
       "    </tr>\n",
       "  </thead>\n",
       "  <tbody>\n",
       "    <tr>\n",
       "      <td>0</td>\n",
       "      <td>1.811426</td>\n",
       "      <td>#na#</td>\n",
       "      <td>00:51</td>\n",
       "    </tr>\n",
       "  </tbody>\n",
       "</table><p>\n",
       "\n",
       "    <div>\n",
       "        <style>\n",
       "            /* Turns off some styling */\n",
       "            progress {\n",
       "                /* gets rid of default border in Firefox and Opera. */\n",
       "                border: none;\n",
       "                /* Needs to be in here for Safari polyfill so background images work as expected. */\n",
       "                background-size: auto;\n",
       "            }\n",
       "            .progress-bar-interrupted, .progress-bar-interrupted::-webkit-progress-bar {\n",
       "                background: #F44336;\n",
       "            }\n",
       "        </style>\n",
       "      <progress value='13' class='' max='74' style='width:300px; height:20px; vertical-align: middle;'></progress>\n",
       "      17.57% [13/74 00:11<00:52 4.1314]\n",
       "    </div>\n",
       "    "
      ],
      "text/plain": [
       "<IPython.core.display.HTML object>"
      ]
     },
     "metadata": {},
     "output_type": "display_data"
    },
    {
     "name": "stdout",
     "output_type": "stream",
     "text": [
      "LR Finder is complete, type {learner_name}.recorder.plot() to see the graph.\n"
     ]
    },
    {
     "data": {
      "image/png": "[encoded data removed]",
      "text/plain": [
       "<Figure size 432x288 with 1 Axes>"
      ]
     },
     "metadata": {},
     "output_type": "display_data"
    }
   ],
   "source": [
    "learn.unfreeze()\n",
    "learn.lr_find()\n",
    "learn.recorder.plot()"
   ]
  },
  {
   "cell_type": "code",
   "execution_count": 19,
   "id": "pacific-angola",
   "metadata": {},
   "outputs": [
    {
     "data": {
      "text/html": [
       "<table border=\"1\" class=\"dataframe\">\n",
       "  <thead>\n",
       "    <tr style=\"text-align: left;\">\n",
       "      <th>epoch</th>\n",
       "      <th>train_loss</th>\n",
       "      <th>valid_loss</th>\n",
       "      <th>acc_gender</th>\n",
       "      <th>acc_age</th>\n",
       "      <th>acc_mask</th>\n",
       "      <th>time</th>\n",
       "    </tr>\n",
       "  </thead>\n",
       "  <tbody>\n",
       "    <tr>\n",
       "      <td>0</td>\n",
       "      <td>1.426968</td>\n",
       "      <td>1.381047</td>\n",
       "      <td>0.681905</td>\n",
       "      <td>0.145159</td>\n",
       "      <td>0.771799</td>\n",
       "      <td>01:42</td>\n",
       "    </tr>\n",
       "    <tr>\n",
       "      <td>1</td>\n",
       "      <td>1.367867</td>\n",
       "      <td>1.209336</td>\n",
       "      <td>0.706773</td>\n",
       "      <td>0.121386</td>\n",
       "      <td>0.790794</td>\n",
       "      <td>01:42</td>\n",
       "    </tr>\n",
       "    <tr>\n",
       "      <td>2</td>\n",
       "      <td>1.248565</td>\n",
       "      <td>1.092224</td>\n",
       "      <td>0.732328</td>\n",
       "      <td>0.122926</td>\n",
       "      <td>0.825185</td>\n",
       "      <td>01:41</td>\n",
       "    </tr>\n",
       "    <tr>\n",
       "      <td>3</td>\n",
       "      <td>1.109753</td>\n",
       "      <td>1.094536</td>\n",
       "      <td>0.758889</td>\n",
       "      <td>0.149847</td>\n",
       "      <td>0.861746</td>\n",
       "      <td>01:42</td>\n",
       "    </tr>\n",
       "    <tr>\n",
       "      <td>4</td>\n",
       "      <td>0.997930</td>\n",
       "      <td>0.826554</td>\n",
       "      <td>0.796402</td>\n",
       "      <td>0.115181</td>\n",
       "      <td>0.890476</td>\n",
       "      <td>01:43</td>\n",
       "    </tr>\n",
       "    <tr>\n",
       "      <td>5</td>\n",
       "      <td>0.889674</td>\n",
       "      <td>0.793117</td>\n",
       "      <td>0.813968</td>\n",
       "      <td>0.119093</td>\n",
       "      <td>0.908095</td>\n",
       "      <td>01:45</td>\n",
       "    </tr>\n",
       "    <tr>\n",
       "      <td>6</td>\n",
       "      <td>0.827578</td>\n",
       "      <td>0.722356</td>\n",
       "      <td>0.827672</td>\n",
       "      <td>0.118637</td>\n",
       "      <td>0.911746</td>\n",
       "      <td>01:42</td>\n",
       "    </tr>\n",
       "    <tr>\n",
       "      <td>7</td>\n",
       "      <td>0.757384</td>\n",
       "      <td>0.666434</td>\n",
       "      <td>0.842857</td>\n",
       "      <td>0.117056</td>\n",
       "      <td>0.922646</td>\n",
       "      <td>01:42</td>\n",
       "    </tr>\n",
       "    <tr>\n",
       "      <td>8</td>\n",
       "      <td>0.757543</td>\n",
       "      <td>1.008399</td>\n",
       "      <td>0.839153</td>\n",
       "      <td>0.158637</td>\n",
       "      <td>0.925661</td>\n",
       "      <td>01:42</td>\n",
       "    </tr>\n",
       "    <tr>\n",
       "      <td>9</td>\n",
       "      <td>0.729412</td>\n",
       "      <td>0.645144</td>\n",
       "      <td>0.861587</td>\n",
       "      <td>0.138756</td>\n",
       "      <td>0.938836</td>\n",
       "      <td>01:43</td>\n",
       "    </tr>\n",
       "    <tr>\n",
       "      <td>10</td>\n",
       "      <td>0.710356</td>\n",
       "      <td>0.521491</td>\n",
       "      <td>0.867884</td>\n",
       "      <td>0.108013</td>\n",
       "      <td>0.943333</td>\n",
       "      <td>01:43</td>\n",
       "    </tr>\n",
       "    <tr>\n",
       "      <td>11</td>\n",
       "      <td>0.668518</td>\n",
       "      <td>0.611849</td>\n",
       "      <td>0.876190</td>\n",
       "      <td>0.135724</td>\n",
       "      <td>0.947354</td>\n",
       "      <td>01:42</td>\n",
       "    </tr>\n",
       "    <tr>\n",
       "      <td>12</td>\n",
       "      <td>0.643475</td>\n",
       "      <td>0.608297</td>\n",
       "      <td>0.881323</td>\n",
       "      <td>0.129438</td>\n",
       "      <td>0.947090</td>\n",
       "      <td>01:41</td>\n",
       "    </tr>\n",
       "    <tr>\n",
       "      <td>13</td>\n",
       "      <td>0.633165</td>\n",
       "      <td>0.655288</td>\n",
       "      <td>0.878942</td>\n",
       "      <td>0.132650</td>\n",
       "      <td>0.949577</td>\n",
       "      <td>01:41</td>\n",
       "    </tr>\n",
       "    <tr>\n",
       "      <td>14</td>\n",
       "      <td>0.632452</td>\n",
       "      <td>0.573029</td>\n",
       "      <td>0.884550</td>\n",
       "      <td>0.128907</td>\n",
       "      <td>0.947989</td>\n",
       "      <td>01:41</td>\n",
       "    </tr>\n",
       "  </tbody>\n",
       "</table>"
      ],
      "text/plain": [
       "<IPython.core.display.HTML object>"
      ]
     },
     "metadata": {},
     "output_type": "display_data"
    },
    {
     "data": {
      "image/png": "[encoded data removed]",
      "text/plain": [
       "<Figure size 432x288 with 1 Axes>"
      ]
     },
     "metadata": {},
     "output_type": "display_data"
    }
   ],
   "source": [
    "#learn.unfreeze()\n",
    "learn.fit_one_cycle(15, max_lr=1e-4)"
   ]
  },
  {
   "cell_type": "code",
   "execution_count": null,
   "id": "excited-cruise",
   "metadata": {},
   "outputs": [],
   "source": [
    "learn.lr_find()\n",
    "learn.recorder.plot(suggestion=True)"
   ]
  },
  {
   "cell_type": "code",
   "execution_count": null,
   "id": "proper-applicant",
   "metadata": {},
   "outputs": [],
   "source": [
    "learn.fit_one_cycle(3, max_lr=1e-7)"
   ]
  },
  {
   "cell_type": "code",
   "execution_count": null,
   "id": "serial-beginning",
   "metadata": {},
   "outputs": [],
   "source": [
    "trained_model = learn.model.cpu()"
   ]
  },
  {
   "cell_type": "code",
   "execution_count": null,
   "id": "rolled-airline",
   "metadata": {},
   "outputs": [],
   "source": [
    "sample_submission = pd.read_csv('/opt/ml/eval/info.csv')\n",
    "sample_submission.head()"
   ]
  },
  {
   "cell_type": "code",
   "execution_count": null,
   "id": "addressed-proportion",
   "metadata": {},
   "outputs": [],
   "source": [
    "class AgenethPredictor():\n",
    "    def __init__(self, model):\n",
    "        self.model = model\n",
    "        #self.tfms = get_transforms()[1]\n",
    "        self.norm = transforms.Normalize([0.485, 0.456, 0.406], [0.229, 0.224, 0.225]) #imagenet stats\n",
    "\n",
    "    def predict(self,x):\n",
    "        #x is a PIL Image\n",
    "        img = PIL.Image.open('/opt/ml/eval/images/' + x).convert('RGB')\n",
    "        x = transforms.CenterCrop((350,256))(img)\n",
    "        x = transforms.Resize((224,224))(x)\n",
    "        x = Image(pil2tensor(x, dtype=np.float32).div_(255))\n",
    "        #x = x.apply_tfms(self.tfms, size = 224)\n",
    "        x = self.norm(x.data)\n",
    "        preds = self.model(x.unsqueeze(0))\n",
    "        gender = torch.softmax(preds[0],1).argmax().item()\n",
    "        age = int(torch.exp(preds[1]*4.09).item())\n",
    "        mask = torch.softmax(preds[2],1).argmax().item()\n",
    "        return gender, age, mask"
   ]
  },
  {
   "cell_type": "code",
   "execution_count": null,
   "id": "figured-catholic",
   "metadata": {},
   "outputs": [],
   "source": [
    "ageneth_predictor = AgenethPredictor(trained_model)\n"
   ]
  },
  {
   "cell_type": "code",
   "execution_count": null,
   "id": "ceramic-emperor",
   "metadata": {},
   "outputs": [],
   "source": [
    "img = PIL.Image.open('/opt/ml/eval/images/'+sample_submission.ImageID[1])\n",
    "img"
   ]
  },
  {
   "cell_type": "code",
   "execution_count": null,
   "id": "single-wedding",
   "metadata": {},
   "outputs": [],
   "source": [
    "%time ageneth_predictor.predict(sample_submission.ImageID[1])"
   ]
  },
  {
   "cell_type": "code",
   "execution_count": null,
   "id": "streaming-horizon",
   "metadata": {},
   "outputs": [],
   "source": [
    "tmp_li = [\n",
    "          [0, 1, 0],\n",
    "          [0, 1, 1],\n",
    "          [0, 1, 2],\n",
    "          [0, 0, 0],\n",
    "          [0, 0, 1],\n",
    "          [0, 0, 2],\n",
    "          [1, 1, 0],\n",
    "          [1, 1, 1],\n",
    "          [1, 1, 2],\n",
    "          [1, 0, 0],\n",
    "          [1, 0, 1],\n",
    "          [1, 0, 2],\n",
    "          [2, 1, 0],\n",
    "          [2, 1, 1],\n",
    "          [2, 1, 2],\n",
    "          [2, 0, 0],\n",
    "          [2, 0, 1],\n",
    "          [2, 0, 2]\n",
    "]\n",
    "match = pd.DataFrame(tmp_li, columns = ['Mask', 'Gender', 'Age'])\n",
    "match.head()"
   ]
  },
  {
   "cell_type": "code",
   "execution_count": null,
   "id": "proper-landscape",
   "metadata": {},
   "outputs": [],
   "source": [
    "from tqdm import tqdm\n",
    "predicts = []\n",
    "for path in tqdm(list(sample_submission['ImageID'])):\n",
    "  p = ageneth_predictor.predict(path)\n",
    "  #print(str(i)+'/'+str(len(sample_submission)))\n",
    "  if p[1] < 30:\n",
    "    ag = 0\n",
    "  elif p[1] >= 60:\n",
    "    ag=2\n",
    "  else:\n",
    "    ag=1\n",
    "  p_match = match.loc[(match['Gender']== p[0]) & (match['Age']==ag) & (match['Mask']==p[2])].index.item()\n",
    "  predicts.append(p_match)\n"
   ]
  },
  {
   "cell_type": "code",
   "execution_count": null,
   "id": "geographic-silver",
   "metadata": {},
   "outputs": [],
   "source": [
    "sample_submission['ans'] = predicts"
   ]
  },
  {
   "cell_type": "code",
   "execution_count": null,
   "id": "chicken-yemen",
   "metadata": {},
   "outputs": [],
   "source": [
    "sample_submission.to_csv('/opt/ml/train/submission3.csv', mode='w', index=False)"
   ]
  },
  {
   "cell_type": "code",
   "execution_count": null,
   "id": "sharing-depth",
   "metadata": {},
   "outputs": [],
   "source": [
    "from tqdm import tqdm\n",
    "predicts = []\n",
    "for path in tqdm(list(sample_submission['ImageID'])):\n",
    "  p = ageneth_predictor.predict(path)\n",
    "  #print(str(i)+'/'+str(len(sample_submission)))\n",
    "  if p[1] < 30:\n",
    "    ag = 0\n",
    "  elif p[1] >= 59:\n",
    "    ag=2\n",
    "  else:\n",
    "    ag=1\n",
    "  p_match = match.loc[(match['Gender']== p[0]) & (match['Age']==ag) & (match['Mask']==p[2])].index.item()\n",
    "  predicts.append(p_match)\n",
    "sample_submission['ans'] = predicts\n",
    "sample_submission.to_csv('/opt/ml/train/submission4.csv', mode='w', index=False)"
   ]
  },
  {
   "cell_type": "code",
   "execution_count": null,
   "id": "uniform-petite",
   "metadata": {},
   "outputs": [],
   "source": [
    "from tqdm import tqdm\n",
    "predicts = []\n",
    "for path in tqdm(list(sample_submission['ImageID'])):\n",
    "  p = ageneth_predictor.predict(path)\n",
    "  #print(str(i)+'/'+str(len(sample_submission)))\n",
    "  if p[1] < 30:\n",
    "    ag = 0\n",
    "  elif p[1] >= 45:\n",
    "    ag=2\n",
    "  else:\n",
    "    ag=1\n",
    "  p_match = match.loc[(match['Gender']== p[0]) & (match['Age']==ag) & (match['Mask']==p[2])].index.item()\n",
    "  predicts.append(p_match)\n",
    "sample_submission['ans'] = predicts\n",
    "sample_submission.to_csv('/opt/ml/train/submission5.csv', mode='w', index=False)"
   ]
  },
  {
   "cell_type": "code",
   "execution_count": null,
   "id": "educational-globe",
   "metadata": {},
   "outputs": [],
   "source": []
  }
 ],
 "metadata": {
  "kernelspec": {
   "display_name": "Python 3",
   "language": "python",
   "name": "python3"
  },
  "language_info": {
   "codemirror_mode": {
    "name": "ipython",
    "version": 3
   },
   "file_extension": ".py",
   "mimetype": "text/x-python",
   "name": "python",
   "nbconvert_exporter": "python",
   "pygments_lexer": "ipython3",
   "version": "3.7.7"
  }
 },
 "nbformat": 4,
 "nbformat_minor": 5
}
